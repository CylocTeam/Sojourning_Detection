{
 "cells": [
  {
   "cell_type": "code",
   "execution_count": 233,
   "metadata": {},
   "outputs": [],
   "source": [
    "import numpy as np\n",
    "import pandas as pd\n",
    "import matplotlib.pyplot as plt"
   ]
  },
  {
   "cell_type": "code",
   "execution_count": 249,
   "metadata": {},
   "outputs": [],
   "source": [
    "def import_data():\n",
    "    # read data for testing\n",
    "    data = pd.read_csv(\"../data/a02_p3.csv\")\n",
    "    data.timestamp = pd.to_datetime(data.timestamp)\n",
    "\n",
    "    acc_x = data.x.to_numpy()\n",
    "    acc_y = data.y.to_numpy()\n",
    "    acc_z = data.z.to_numpy()\n",
    "    timestamp = data.timestamp.to_numpy()\n",
    "\n",
    "    # is_stay, stay_times, stay_durations = find_stays(df.x, df.y, df.z, df.timestamp, params)\n",
    "    # find_stays(df.x, df.y, df.z, df.timestamp, params)\n",
    "\n",
    "    # unpack\n",
    "    df = pd.DataFrame({'x': acc_x, 'y': acc_y, 'z': acc_z}, index = timestamp)\n",
    "    acc_abs = np.sqrt(df.x**2 + df.y**2 + df.z**2)\n",
    "    acc_abs.name = \"norm\"\n",
    "    df = pd.concat([df, acc_abs], axis=1)\n",
    "    return df"
   ]
  },
  {
   "cell_type": "markdown",
   "metadata": {},
   "source": [
    "### Initiate Class"
   ]
  },
  {
   "cell_type": "code",
   "execution_count": 3,
   "metadata": {},
   "outputs": [],
   "source": [
    "fs = 25 #[Hz]\n",
    "params = {\"win_size_sec\": 3,\n",
    "\"ecdf_diff_th\": 0.01,\n",
    "\"var_th\": 0.05,\n",
    "\"abrupt_filt_time_const\": 10,\n",
    "\"abrupt_pctg_th\": 0.2,\n",
    "\"min_stay_duration\": 4,\n",
    "\"max_time_gap_msec\": 1e3 * 5 / fs,\n",
    "\"max_section_gap_minutes\": 7,\n",
    "\"max_time_gap_pctl\": 60}"
   ]
  },
  {
   "cell_type": "markdown",
   "metadata": {},
   "source": [
    "### methods"
   ]
  },
  {
   "cell_type": "code",
   "execution_count": 4,
   "metadata": {},
   "outputs": [],
   "source": [
    "def avg_sample_rate(time_diffs,params):\n",
    "    mask = time_diffs <= np.percentile(time_diffs, params[\"max_time_gap_pctl\"])+1 #+1 fixing numpy.percentile bug\n",
    "    fs = np.mean(1e3/time_diffs[mask].astype('timedelta64[ms]').astype('float64')) #[Hz]\n",
    "    return fs"
   ]
  },
  {
   "cell_type": "code",
   "execution_count": 241,
   "metadata": {},
   "outputs": [],
   "source": [
    "def find_sections_idx(time_diffs, params):\n",
    "    max_section_gap = np.array(params[\"max_section_gap_minutes\"], dtype='timedelta64[m]')\n",
    "    section_idxs = np.argwhere(time_diffs > max_section_gap) #the actuall important part, everything else is syntax...\n",
    "    section_idxs_list = np.append(np.array(0), section_idxs) \n",
    "    section_idxs_list = np.append(section_idxs_list, len(time_diffs))\n",
    "    return section_idxs_list"
   ]
  },
  {
   "cell_type": "code",
   "execution_count": 98,
   "metadata": {},
   "outputs": [],
   "source": [
    "def update_var_th(acc_abs,win_size_smp,MAX_HIST_BINS,params):\n",
    "    acc_rollvar = acc_abs.rolling(win_size_smp).var()\n",
    "    acc_rollvar = acc_rollvar[acc_rollvar.notnull()]\n",
    "    hist, bin_edges = np.histogram(acc_rollvar,bins=MAX_HIST_BINS)\n",
    "    mvr_epdf = hist / sum(hist); # normalize to pdf\n",
    "    knee_th = bin_edges[np.argwhere(mvr_epdf < params[\"ecdf_diff_th\"])[-1]]\n",
    "    if not knee_th.size:\n",
    "        knee_th = params[\"var_th\"]\n",
    "    return float(min([params[\"var_th\"], knee_th]))"
   ]
  },
  {
   "cell_type": "code",
   "execution_count": 234,
   "metadata": {},
   "outputs": [],
   "source": [
    "def filter_abrupt_movements(is_stay_raw, abrupt_filt_size, params):\n",
    "    soft_stay = is_stay_raw.rolling(abrupt_filt_size).mean()\n",
    "    return (soft_stay > params[\"abrupt_pctg_th\"])"
   ]
  },
  {
   "cell_type": "code",
   "execution_count": 10,
   "metadata": {},
   "outputs": [],
   "source": [
    "def convert_filters_size(time_diffs,params):\n",
    "    fs = avg_sample_rate(time_diffs,params)\n",
    "    sec2smp = lambda sec: np.floor(sec*fs).astype('int32')\n",
    "    win_size_smp = sec2smp(params[\"win_size_sec\"])\n",
    "    abrupt_filt_size = sec2smp(params[\"abrupt_filt_time_const\"])\n",
    "    return win_size_smp, abrupt_filt_size"
   ]
  },
  {
   "cell_type": "code",
   "execution_count": 122,
   "metadata": {},
   "outputs": [],
   "source": [
    "def check_stay_raw(df, win_size_smp,var_th, NUM_DIMS):\n",
    "    df_rollvar = df.rolling(win_size_smp).var()\n",
    "    is_axis_stay = df_rollvar[[\"x\",\"y\",\"z\"]] < var_th/NUM_DIMS\n",
    "    is_norm_stay = df_rollvar[\"norm\"] < var_th\n",
    "    is_stay = is_axis_stay.all(axis = 1) & is_norm_stay\n",
    "    is_stay.name = \"is_stay\"\n",
    "    return is_stay"
   ]
  },
  {
   "cell_type": "markdown",
   "metadata": {},
   "source": [
    "### run"
   ]
  },
  {
   "cell_type": "code",
   "execution_count": 248,
   "metadata": {},
   "outputs": [],
   "source": [
    "#definitions\n",
    "df = import_data()\n",
    "df['is_stay'] = False\n",
    "df = df.sort_index()\n",
    "    \n",
    "MAX_HIST_BINS = int(1e4)\n",
    "NUM_DIMS = 3 # {x y z}"
   ]
  },
  {
   "cell_type": "code",
   "execution_count": 242,
   "metadata": {},
   "outputs": [],
   "source": [
    "# calc params in sample (ctor)\n",
    "time_diffs = np.diff(df.index) #util array\n",
    "\n",
    "win_size_smp, abrupt_filt_size = convert_filters_size(time_diffs,params)\n",
    "var_th = update_var_th(df[\"norm\"],win_size_smp,MAX_HIST_BINS,params) # optionally update var_th\n",
    "\n",
    "# split to sections (main)\n",
    "sections_list_iloc = find_sections_idx(time_diffs, params) #find sections in large sequence of data seperated by max_section_gap_minutes\n",
    "sections_range = [range(sections_list_iloc[ix],sections_list_iloc[ix+1]+1) for ix in range(len(sections_list_iloc)-1)]"
   ]
  },
  {
   "cell_type": "code",
   "execution_count": 209,
   "metadata": {},
   "outputs": [],
   "source": [
    "# go through each section and decide isStay\n",
    "for sec in range(len(sections_range)):\n",
    "    sec_df = df.iloc[sections_range[sec]]\n",
    "    is_stay = check_stay_raw(sec_df, win_size_smp, var_th, NUM_DIMS)\n",
    "    df.loc[is_stay.index, \"is_stay\"] = is_stay"
   ]
  },
  {
   "cell_type": "code",
   "execution_count": 244,
   "metadata": {},
   "outputs": [],
   "source": [
    "# filter abrupt movements\n",
    "is_stay = filter_abrupt_movements(df.is_stay, abrupt_filt_size, params)\n",
    "is_stay.iloc[sections_list_iloc[1:]] = False; # force sectioning\n",
    "df.loc[is_stay.index, \"is_stay\"] = is_stay"
   ]
  }
 ],
 "metadata": {
  "kernelspec": {
   "display_name": "Python 3",
   "language": "python",
   "name": "python3"
  },
  "language_info": {
   "codemirror_mode": {
    "name": "ipython",
    "version": 3
   },
   "file_extension": ".py",
   "mimetype": "text/x-python",
   "name": "python",
   "nbconvert_exporter": "python",
   "pygments_lexer": "ipython3",
   "version": "3.8.2"
  }
 },
 "nbformat": 4,
 "nbformat_minor": 4
}
