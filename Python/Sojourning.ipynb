{
 "cells": [
  {
   "cell_type": "code",
   "execution_count": 1,
   "metadata": {},
   "outputs": [],
   "source": [
    "import numpy as np\n",
    "import pandas as pd\n",
    "import matplotlib.pyplot as plt"
   ]
  },
  {
   "cell_type": "markdown",
   "metadata": {},
   "source": [
    "### Initiate Class"
   ]
  },
  {
   "cell_type": "code",
   "execution_count": 2,
   "metadata": {},
   "outputs": [],
   "source": [
    "df = pd.read_csv(\"../data/a02_p3.csv\")\n",
    "df.timestamp = pd.to_datetime(df.timestamp)\n",
    "# is_stay, stay_times, stay_durations = find_stays(df.x, df.y, df.z, df.timestamp, params)\n",
    "# find_stays(df.x, df.y, df.z, df.timestamp, params)"
   ]
  },
  {
   "cell_type": "code",
   "execution_count": 48,
   "metadata": {},
   "outputs": [],
   "source": [
    "fs = 25 #[Hz]\n",
    "params = {\"win_size_sec\": 3,\n",
    "\"ecdf_diff_th\": 0.01,\n",
    "\"var_th\": 0.05,\n",
    "\"abrupt_filt_time_const\": 10,\n",
    "\"abrupt_pctg_th\": 0.2,\n",
    "\"min_stay_duration\": 4,\n",
    "\"max_time_gap_msec\": 1e3 * 5 / fs,\n",
    "\"max_section_gap_minutes\": 7,\n",
    "\"max_time_gap_pctl\": 60}"
   ]
  },
  {
   "cell_type": "code",
   "execution_count": 49,
   "metadata": {},
   "outputs": [],
   "source": [
    "# unpack & definitions\n",
    "accx = df.x.to_numpy()\n",
    "accy = df.y.to_numpy()\n",
    "accz = df.z.to_numpy()\n",
    "timestamp = df.timestamp.to_numpy()\n",
    "\n",
    "acc_mat = np.array([accx , accy , accz])  # stacking\n",
    "\n",
    "MAX_HIST_BINS = int(1e4)\n",
    "NUN_DIMS = 3 # {x y z}\n",
    "\n"
   ]
  },
  {
   "cell_type": "markdown",
   "metadata": {},
   "source": [
    "### methods"
   ]
  },
  {
   "cell_type": "code",
   "execution_count": 59,
   "metadata": {},
   "outputs": [],
   "source": [
    "# calculate average sample rate\n",
    "def avg_sample_rate(time_diffs,params):\n",
    "    mask = time_diffs <= np.percentile(time_diffs, params[\"max_time_gap_pctl\"])+1 #+1 fixing numpy.percentile bug\n",
    "    fs = np.mean(1e3/time_diffs[mask].astype('timedelta64[ms]').astype('float64')) #[Hz]\n",
    "    return fs"
   ]
  },
  {
   "cell_type": "code",
   "execution_count": 51,
   "metadata": {},
   "outputs": [],
   "source": [
    "# calc params in sample (ctor)\n",
    "time_diffs = np.diff(timestamp)\n",
    "fs = avg_sample_rate(time_diffs,params)\n",
    "sec2smp = lambda sec: np.floor(sec*fs).astype('int32');  # util function\n",
    "win_size_smp = sec2smp(params[\"win_size_sec\"])\n",
    "abrupt_filt_size = sec2smp(params[\"abrupt_filt_time_const\"])"
   ]
  },
  {
   "cell_type": "code",
   "execution_count": 52,
   "metadata": {},
   "outputs": [],
   "source": [
    "def rolling_window(arr, window):\n",
    "    shape = arr.shape[:-1] + (arr.shape[-1] - window + 1, window)\n",
    "    strides = arr.strides + (arr.strides[-1],)\n",
    "    return np.lib.stride_tricks.as_strided(arr, shape=shape, strides=strides)"
   ]
  },
  {
   "cell_type": "code",
   "execution_count": 60,
   "metadata": {},
   "outputs": [],
   "source": [
    "# optionally update var_th\n",
    "def update_var_th(acc_mat,win_size_smp,MAX_HIST_BINS,params):\n",
    "    acc_abs = np.sqrt(np.power(acc_mat,2).sum(axis=0))\n",
    "    cc_movevar = np.var(rolling_window(acc_abs, win_size_smp), axis=1)\n",
    "    hist, bin_edges = np.histogram(acc_movevar,bins=MAX_HIST_BINS)\n",
    "    mvr_epdf = hist / sum(hist); # normalize to pdf\n",
    "    knee_th = bin_edges[np.argwhere(mvr_epdf < params[\"ecdf_diff_th\"])[-1]]\n",
    "    if not knee_th.size:\n",
    "        knee_th = params[\"var_th\"]\n",
    "    return min([params[\"var_th\"], knee_th])\n",
    "\n",
    "var_th = update_var_th(acc_mat,win_size_smp,MAX_HIST_BINS,params)"
   ]
  },
  {
   "cell_type": "code",
   "execution_count": 56,
   "metadata": {},
   "outputs": [],
   "source": [
    "max_section_gap = np.array(params[\"max_section_gap_minutes\"], dtype='timedelta64[m]')\n",
    "section_idxs = np.append(np.array(0), np.argwhere(time_diffs > max_section_gap))\n",
    "section_idxs = np.append(section_idxs, len(timestamp)-1)"
   ]
  },
  {
   "cell_type": "code",
   "execution_count": 57,
   "metadata": {},
   "outputs": [],
   "source": [
    "# %% go through each section and decide isStay\n",
    "# is_seperate_axis = [];  % should be realocated in other language\n",
    "# is_abs_stay = [];       % should be realocated in other language\n",
    "# for isect=1:length(section_idxs)-1\n",
    "#     curr_section_idxs = section_idxs(isect) : section_idxs(isect+1) ;\n",
    "#     curr_acc_mat = acc_mat(curr_section_idxs);\n",
    "#     curr_acc_abs = sqrt(sum(curr_acc_mat.^2,2)); \n",
    "#     mvr_mat = movvar(curr_acc_mat, win_size_smp, 0, 1);\n",
    "#     mvr_abs = movvar(curr_acc_abs, win_size_smp);\n",
    "    \n",
    "#     % check seperate axis\n",
    "#     is_seperate_axis(curr_section_idxs) = all(mvr_mat < var_th/Ndims,2);\n",
    "#     is_abs_stay(curr_section_idxs) = mvr_abs < var_th ;\n",
    "# end\n",
    "# isStay = is_seperate_axis & is_abs_stay ;\n"
   ]
  }
 ],
 "metadata": {
  "kernelspec": {
   "display_name": "Python 3",
   "language": "python",
   "name": "python3"
  },
  "language_info": {
   "codemirror_mode": {
    "name": "ipython",
    "version": 3
   },
   "file_extension": ".py",
   "mimetype": "text/x-python",
   "name": "python",
   "nbconvert_exporter": "python",
   "pygments_lexer": "ipython3",
   "version": "3.8.2"
  }
 },
 "nbformat": 4,
 "nbformat_minor": 4
}
